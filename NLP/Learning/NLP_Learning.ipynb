{
 "cells": [
  {
   "attachments": {},
   "cell_type": "markdown",
   "metadata": {},
   "source": [
    "<b>Procedure in NLP</b>\n",
    "<pre>\n",
    "1. Import the General libraries, NLP module like NLTK and SPACY.\n",
    "2. Load the dataset.\n",
    "3. Text Preprocessing:\n",
    "    i. Removing html tags\n",
    "    ii. Removing Punctuations\n",
    "    iii. Performing stemming\n",
    "    iv. Removing Stop words\n",
    "    v. Expanding contractions.\n",
    "4. Apply Tokenization.\n",
    "5. Apply Stemming.\n",
    "6. Apply POS Tagging.\n",
    "7. Apply Lemmatization.\n",
    "8. Apply label encoding.\n",
    "9. Feature Extraction.\n",
    "10 Text to Numerical vector conversion:\n",
    "    i. Apply BOW(Count-Vectorizer).\n",
    "    ii. Apply TFIDF vectorizer.\n",
    "    iii. Apply Word2Vector vectorizer.\n",
    "    iv. Apply Glove.\n",
    "11. Data preprocessing.\n",
    "12. Model Building.\n",
    "</pre>"
   ]
  },
  {
   "attachments": {},
   "cell_type": "markdown",
   "metadata": {},
   "source": [
    "<b>Terms used in NLP</b>\n",
    "<pre>\n",
    "Document      : Each row in dataset is called Document.\n",
    "Corpus        : Collection of Documents(all rows) is called Corpus.\n",
    "Vocabulary    : Unique Words in Corpus\n",
    "Segmentation  : Breaking multiple sentences into single individual sentence is called Segmentation.\n",
    "Tokenization  : Process of breaking sentence into Words is called Tokenization and the words are called Tokens.\n",
    "StopWords     : Common words used in any language are called Stop-Words\n",
    "Stemming      : Process of removing or replacing suffixes of word to get the root or base word is called Stemming. But sometimes     meaning of word will lost.\n",
    "\n",
    "Lemmatization : Process of removing or replacing suffixes of word to get theroot or base word is called Lemmatization. Here words have dictionary meaning.\n",
    "\n",
    "NER Tagging   : Process of Adding Tags to each word like \"Person, Place,Currency\" etc. is called NER Tagging.\n",
    "POS Tagging   : Process of Adding Part of Speech Tags to each word is called POS Tagging..\n",
    "Chunking : Process of Conversion of sentence to a flat tree is called chunking\n",
    "</pre>"
   ]
  }
 ],
 "metadata": {
  "kernelspec": {
   "display_name": "Python 3",
   "language": "python",
   "name": "python3"
  },
  "language_info": {
   "codemirror_mode": {
    "name": "ipython",
    "version": 3
   },
   "file_extension": ".py",
   "mimetype": "text/x-python",
   "name": "python",
   "nbconvert_exporter": "python",
   "pygments_lexer": "ipython3",
   "version": "3.10.2"
  },
  "orig_nbformat": 4
 },
 "nbformat": 4,
 "nbformat_minor": 2
}
